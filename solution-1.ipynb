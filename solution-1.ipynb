{
 "cells": [
  {
   "cell_type": "code",
   "id": "initial_id",
   "metadata": {
    "collapsed": true,
    "ExecuteTime": {
     "end_time": "2025-04-01T08:37:25.110672Z",
     "start_time": "2025-04-01T08:37:25.107316Z"
    }
   },
   "source": [
    "import matplotlib.pyplot as plt\n",
    "import numpy as np\n",
    "import pandas as pd"
   ],
   "outputs": [],
   "execution_count": 11
  },
  {
   "metadata": {
    "ExecuteTime": {
     "end_time": "2025-04-01T08:37:25.702977Z",
     "start_time": "2025-04-01T08:37:25.670864Z"
    }
   },
   "cell_type": "code",
   "source": [
    "# Loading the dataset file\n",
    "train_features = pd.read_csv('data/Conser-vision_Practice_Area_Image_Classification_-_train_features.csv.csv', index_col='id')\n",
    "train_labels = pd.read_csv('data/Conser-vision_Practice_Area_Image_Classification_-_train_labels.csv.csv', index_col='id')\n",
    "test_features = pd.read_csv('data/Conser-vision_Practice_Area_Image_Classification_-_test_features.csv.csv', index_col='id')"
   ],
   "id": "f43da0d932053e4",
   "outputs": [],
   "execution_count": 12
  },
  {
   "metadata": {
    "ExecuteTime": {
     "end_time": "2025-04-01T08:37:25.858494Z",
     "start_time": "2025-04-01T08:37:25.854259Z"
    }
   },
   "cell_type": "code",
   "source": "train_features.head(), len(train_features)",
   "id": "de675066f1de31c3",
   "outputs": [
    {
     "data": {
      "text/plain": [
       "(                             filepath   site\n",
       " id                                          \n",
       " ZJ000000  train_features/ZJ000000.jpg  S0120\n",
       " ZJ000001  train_features/ZJ000001.jpg  S0069\n",
       " ZJ000002  train_features/ZJ000002.jpg  S0009\n",
       " ZJ000003  train_features/ZJ000003.jpg  S0008\n",
       " ZJ000004  train_features/ZJ000004.jpg  S0036,\n",
       " 16488)"
      ]
     },
     "execution_count": 13,
     "metadata": {},
     "output_type": "execute_result"
    }
   ],
   "execution_count": 13
  },
  {
   "metadata": {
    "ExecuteTime": {
     "end_time": "2025-04-01T08:37:26.053501Z",
     "start_time": "2025-04-01T08:37:26.048381Z"
    }
   },
   "cell_type": "code",
   "source": "train_labels.head()",
   "id": "38c0fc599e43bdb6",
   "outputs": [
    {
     "data": {
      "text/plain": [
       "          antelope_duiker  bird  blank  civet_genet  hog  leopard  \\\n",
       "id                                                                  \n",
       "ZJ000000              0.0   1.0    0.0          0.0  0.0      0.0   \n",
       "ZJ000001              0.0   0.0    0.0          0.0  0.0      0.0   \n",
       "ZJ000002              0.0   1.0    0.0          0.0  0.0      0.0   \n",
       "ZJ000003              0.0   0.0    0.0          0.0  0.0      0.0   \n",
       "ZJ000004              0.0   0.0    0.0          0.0  0.0      1.0   \n",
       "\n",
       "          monkey_prosimian  rodent  \n",
       "id                                  \n",
       "ZJ000000               0.0     0.0  \n",
       "ZJ000001               1.0     0.0  \n",
       "ZJ000002               0.0     0.0  \n",
       "ZJ000003               1.0     0.0  \n",
       "ZJ000004               0.0     0.0  "
      ],
      "text/html": [
       "<div>\n",
       "<style scoped>\n",
       "    .dataframe tbody tr th:only-of-type {\n",
       "        vertical-align: middle;\n",
       "    }\n",
       "\n",
       "    .dataframe tbody tr th {\n",
       "        vertical-align: top;\n",
       "    }\n",
       "\n",
       "    .dataframe thead th {\n",
       "        text-align: right;\n",
       "    }\n",
       "</style>\n",
       "<table border=\"1\" class=\"dataframe\">\n",
       "  <thead>\n",
       "    <tr style=\"text-align: right;\">\n",
       "      <th></th>\n",
       "      <th>antelope_duiker</th>\n",
       "      <th>bird</th>\n",
       "      <th>blank</th>\n",
       "      <th>civet_genet</th>\n",
       "      <th>hog</th>\n",
       "      <th>leopard</th>\n",
       "      <th>monkey_prosimian</th>\n",
       "      <th>rodent</th>\n",
       "    </tr>\n",
       "    <tr>\n",
       "      <th>id</th>\n",
       "      <th></th>\n",
       "      <th></th>\n",
       "      <th></th>\n",
       "      <th></th>\n",
       "      <th></th>\n",
       "      <th></th>\n",
       "      <th></th>\n",
       "      <th></th>\n",
       "    </tr>\n",
       "  </thead>\n",
       "  <tbody>\n",
       "    <tr>\n",
       "      <th>ZJ000000</th>\n",
       "      <td>0.0</td>\n",
       "      <td>1.0</td>\n",
       "      <td>0.0</td>\n",
       "      <td>0.0</td>\n",
       "      <td>0.0</td>\n",
       "      <td>0.0</td>\n",
       "      <td>0.0</td>\n",
       "      <td>0.0</td>\n",
       "    </tr>\n",
       "    <tr>\n",
       "      <th>ZJ000001</th>\n",
       "      <td>0.0</td>\n",
       "      <td>0.0</td>\n",
       "      <td>0.0</td>\n",
       "      <td>0.0</td>\n",
       "      <td>0.0</td>\n",
       "      <td>0.0</td>\n",
       "      <td>1.0</td>\n",
       "      <td>0.0</td>\n",
       "    </tr>\n",
       "    <tr>\n",
       "      <th>ZJ000002</th>\n",
       "      <td>0.0</td>\n",
       "      <td>1.0</td>\n",
       "      <td>0.0</td>\n",
       "      <td>0.0</td>\n",
       "      <td>0.0</td>\n",
       "      <td>0.0</td>\n",
       "      <td>0.0</td>\n",
       "      <td>0.0</td>\n",
       "    </tr>\n",
       "    <tr>\n",
       "      <th>ZJ000003</th>\n",
       "      <td>0.0</td>\n",
       "      <td>0.0</td>\n",
       "      <td>0.0</td>\n",
       "      <td>0.0</td>\n",
       "      <td>0.0</td>\n",
       "      <td>0.0</td>\n",
       "      <td>1.0</td>\n",
       "      <td>0.0</td>\n",
       "    </tr>\n",
       "    <tr>\n",
       "      <th>ZJ000004</th>\n",
       "      <td>0.0</td>\n",
       "      <td>0.0</td>\n",
       "      <td>0.0</td>\n",
       "      <td>0.0</td>\n",
       "      <td>0.0</td>\n",
       "      <td>1.0</td>\n",
       "      <td>0.0</td>\n",
       "      <td>0.0</td>\n",
       "    </tr>\n",
       "  </tbody>\n",
       "</table>\n",
       "</div>"
      ]
     },
     "execution_count": 14,
     "metadata": {},
     "output_type": "execute_result"
    }
   ],
   "execution_count": 14
  },
  {
   "metadata": {
    "ExecuteTime": {
     "end_time": "2025-04-01T08:37:26.220548Z",
     "start_time": "2025-04-01T08:37:26.218235Z"
    }
   },
   "cell_type": "code",
   "source": [
    "species = sorted(train_labels.columns.unique())\n",
    "species, len(species)"
   ],
   "id": "6836e2dc77e36a55",
   "outputs": [
    {
     "data": {
      "text/plain": [
       "(['antelope_duiker',\n",
       "  'bird',\n",
       "  'blank',\n",
       "  'civet_genet',\n",
       "  'hog',\n",
       "  'leopard',\n",
       "  'monkey_prosimian',\n",
       "  'rodent'],\n",
       " 8)"
      ]
     },
     "execution_count": 15,
     "metadata": {},
     "output_type": "execute_result"
    }
   ],
   "execution_count": 15
  },
  {
   "metadata": {},
   "cell_type": "markdown",
   "source": "> There are *8* different species",
   "id": "30353b06f583d539"
  },
  {
   "metadata": {},
   "cell_type": "markdown",
   "source": [
    "## Displaying Images\n",
    "Now the task is to load and display few images and explore them, we will use random_state=42 for consistency"
   ],
   "id": "f6e0c4eae022499e"
  },
  {
   "metadata": {},
   "cell_type": "code",
   "outputs": [],
   "execution_count": null,
   "source": [
    "# TODO: Fix training images for the project\n",
    "\n",
    "\n",
    "import random\n",
    "import pathlib\n",
    "\n",
    "random.seed(42)\n",
    "\n",
    "# Root image dir\n",
    "img_dir = 'data'\n",
    "\n",
    "# Load 9 random images within the range of the train_features\n",
    "img_index = [random.randint(0, len(train_features) - 1) for _ in range(9)]\n",
    "\n",
    "fig, axs = plt.subplots(nrows=3,ncols=3,figsize=(10,10))\n",
    "axs = axs.flatten()\n",
    "for i, j in enumerate(img_index):\n",
    "    image_path = pathlib.PurePath(img_dir, train_features.iloc[j]['filepath'])\n",
    "    image_label = train_labels.columns[np.where(train_labels.iloc[j] == 1)][0]\n",
    "    image = plt.imread(image_path)\n",
    "    axs[i].imshow(image)\n",
    "    axs[i].set_title(image_label)\n",
    "    axs[i].axis('off')"
   ],
   "id": "f4f89cbbb44699d4"
  },
  {
   "metadata": {},
   "cell_type": "markdown",
   "source": "Can you notice any animal from the picture let's say a bird",
   "id": "d5e2574e77616c7c"
  },
  {
   "metadata": {
    "ExecuteTime": {
     "end_time": "2025-04-01T08:37:27.048294Z",
     "start_time": "2025-04-01T08:37:27.044191Z"
    }
   },
   "cell_type": "code",
   "source": [
    "# distribution of species across the dataset\n",
    "train_labels.sum().sort_values(ascending=False)"
   ],
   "id": "6a6011d6d2dde28b",
   "outputs": [
    {
     "data": {
      "text/plain": [
       "monkey_prosimian    2492.0\n",
       "antelope_duiker     2474.0\n",
       "civet_genet         2423.0\n",
       "leopard             2254.0\n",
       "blank               2213.0\n",
       "rodent              2013.0\n",
       "bird                1641.0\n",
       "hog                  978.0\n",
       "dtype: float64"
      ]
     },
     "execution_count": 17,
     "metadata": {},
     "output_type": "execute_result"
    }
   ],
   "execution_count": 17
  },
  {
   "metadata": {
    "ExecuteTime": {
     "end_time": "2025-04-01T08:37:27.937982Z",
     "start_time": "2025-04-01T08:37:27.931548Z"
    }
   },
   "cell_type": "code",
   "source": [
    "labels_distribution = train_labels.sum().divide(train_labels.shape[0]).sort_values(ascending=False) # Looking the percentage distribution\n",
    "labels_distribution"
   ],
   "id": "61a30eff1cc1806c",
   "outputs": [
    {
     "data": {
      "text/plain": [
       "monkey_prosimian    0.151140\n",
       "antelope_duiker     0.150049\n",
       "civet_genet         0.146955\n",
       "leopard             0.136705\n",
       "blank               0.134219\n",
       "rodent              0.122089\n",
       "bird                0.099527\n",
       "hog                 0.059316\n",
       "dtype: float64"
      ]
     },
     "execution_count": 18,
     "metadata": {},
     "output_type": "execute_result"
    }
   ],
   "execution_count": 18
  },
  {
   "metadata": {
    "ExecuteTime": {
     "end_time": "2025-04-01T08:37:28.330006Z",
     "start_time": "2025-04-01T08:37:28.321337Z"
    }
   },
   "cell_type": "code",
   "source": "train_labels.sample(frac=1)",
   "id": "2b67db3807865286",
   "outputs": [
    {
     "data": {
      "text/plain": [
       "          antelope_duiker  bird  blank  civet_genet  hog  leopard  \\\n",
       "id                                                                  \n",
       "ZJ014647              1.0   0.0    0.0          0.0  0.0      0.0   \n",
       "ZJ000374              0.0   0.0    0.0          0.0  0.0      0.0   \n",
       "ZJ013113              0.0   0.0    0.0          1.0  0.0      0.0   \n",
       "ZJ013688              0.0   0.0    0.0          0.0  0.0      0.0   \n",
       "ZJ013195              0.0   0.0    0.0          1.0  0.0      0.0   \n",
       "...                   ...   ...    ...          ...  ...      ...   \n",
       "ZJ005790              1.0   0.0    0.0          0.0  0.0      0.0   \n",
       "ZJ012272              0.0   0.0    0.0          0.0  0.0      0.0   \n",
       "ZJ010329              0.0   0.0    0.0          1.0  0.0      0.0   \n",
       "ZJ013684              0.0   0.0    0.0          0.0  1.0      0.0   \n",
       "ZJ001415              0.0   0.0    0.0          0.0  0.0      1.0   \n",
       "\n",
       "          monkey_prosimian  rodent  \n",
       "id                                  \n",
       "ZJ014647               0.0     0.0  \n",
       "ZJ000374               1.0     0.0  \n",
       "ZJ013113               0.0     0.0  \n",
       "ZJ013688               0.0     1.0  \n",
       "ZJ013195               0.0     0.0  \n",
       "...                    ...     ...  \n",
       "ZJ005790               0.0     0.0  \n",
       "ZJ012272               0.0     1.0  \n",
       "ZJ010329               0.0     0.0  \n",
       "ZJ013684               0.0     0.0  \n",
       "ZJ001415               0.0     0.0  \n",
       "\n",
       "[16488 rows x 8 columns]"
      ],
      "text/html": [
       "<div>\n",
       "<style scoped>\n",
       "    .dataframe tbody tr th:only-of-type {\n",
       "        vertical-align: middle;\n",
       "    }\n",
       "\n",
       "    .dataframe tbody tr th {\n",
       "        vertical-align: top;\n",
       "    }\n",
       "\n",
       "    .dataframe thead th {\n",
       "        text-align: right;\n",
       "    }\n",
       "</style>\n",
       "<table border=\"1\" class=\"dataframe\">\n",
       "  <thead>\n",
       "    <tr style=\"text-align: right;\">\n",
       "      <th></th>\n",
       "      <th>antelope_duiker</th>\n",
       "      <th>bird</th>\n",
       "      <th>blank</th>\n",
       "      <th>civet_genet</th>\n",
       "      <th>hog</th>\n",
       "      <th>leopard</th>\n",
       "      <th>monkey_prosimian</th>\n",
       "      <th>rodent</th>\n",
       "    </tr>\n",
       "    <tr>\n",
       "      <th>id</th>\n",
       "      <th></th>\n",
       "      <th></th>\n",
       "      <th></th>\n",
       "      <th></th>\n",
       "      <th></th>\n",
       "      <th></th>\n",
       "      <th></th>\n",
       "      <th></th>\n",
       "    </tr>\n",
       "  </thead>\n",
       "  <tbody>\n",
       "    <tr>\n",
       "      <th>ZJ014647</th>\n",
       "      <td>1.0</td>\n",
       "      <td>0.0</td>\n",
       "      <td>0.0</td>\n",
       "      <td>0.0</td>\n",
       "      <td>0.0</td>\n",
       "      <td>0.0</td>\n",
       "      <td>0.0</td>\n",
       "      <td>0.0</td>\n",
       "    </tr>\n",
       "    <tr>\n",
       "      <th>ZJ000374</th>\n",
       "      <td>0.0</td>\n",
       "      <td>0.0</td>\n",
       "      <td>0.0</td>\n",
       "      <td>0.0</td>\n",
       "      <td>0.0</td>\n",
       "      <td>0.0</td>\n",
       "      <td>1.0</td>\n",
       "      <td>0.0</td>\n",
       "    </tr>\n",
       "    <tr>\n",
       "      <th>ZJ013113</th>\n",
       "      <td>0.0</td>\n",
       "      <td>0.0</td>\n",
       "      <td>0.0</td>\n",
       "      <td>1.0</td>\n",
       "      <td>0.0</td>\n",
       "      <td>0.0</td>\n",
       "      <td>0.0</td>\n",
       "      <td>0.0</td>\n",
       "    </tr>\n",
       "    <tr>\n",
       "      <th>ZJ013688</th>\n",
       "      <td>0.0</td>\n",
       "      <td>0.0</td>\n",
       "      <td>0.0</td>\n",
       "      <td>0.0</td>\n",
       "      <td>0.0</td>\n",
       "      <td>0.0</td>\n",
       "      <td>0.0</td>\n",
       "      <td>1.0</td>\n",
       "    </tr>\n",
       "    <tr>\n",
       "      <th>ZJ013195</th>\n",
       "      <td>0.0</td>\n",
       "      <td>0.0</td>\n",
       "      <td>0.0</td>\n",
       "      <td>1.0</td>\n",
       "      <td>0.0</td>\n",
       "      <td>0.0</td>\n",
       "      <td>0.0</td>\n",
       "      <td>0.0</td>\n",
       "    </tr>\n",
       "    <tr>\n",
       "      <th>...</th>\n",
       "      <td>...</td>\n",
       "      <td>...</td>\n",
       "      <td>...</td>\n",
       "      <td>...</td>\n",
       "      <td>...</td>\n",
       "      <td>...</td>\n",
       "      <td>...</td>\n",
       "      <td>...</td>\n",
       "    </tr>\n",
       "    <tr>\n",
       "      <th>ZJ005790</th>\n",
       "      <td>1.0</td>\n",
       "      <td>0.0</td>\n",
       "      <td>0.0</td>\n",
       "      <td>0.0</td>\n",
       "      <td>0.0</td>\n",
       "      <td>0.0</td>\n",
       "      <td>0.0</td>\n",
       "      <td>0.0</td>\n",
       "    </tr>\n",
       "    <tr>\n",
       "      <th>ZJ012272</th>\n",
       "      <td>0.0</td>\n",
       "      <td>0.0</td>\n",
       "      <td>0.0</td>\n",
       "      <td>0.0</td>\n",
       "      <td>0.0</td>\n",
       "      <td>0.0</td>\n",
       "      <td>0.0</td>\n",
       "      <td>1.0</td>\n",
       "    </tr>\n",
       "    <tr>\n",
       "      <th>ZJ010329</th>\n",
       "      <td>0.0</td>\n",
       "      <td>0.0</td>\n",
       "      <td>0.0</td>\n",
       "      <td>1.0</td>\n",
       "      <td>0.0</td>\n",
       "      <td>0.0</td>\n",
       "      <td>0.0</td>\n",
       "      <td>0.0</td>\n",
       "    </tr>\n",
       "    <tr>\n",
       "      <th>ZJ013684</th>\n",
       "      <td>0.0</td>\n",
       "      <td>0.0</td>\n",
       "      <td>0.0</td>\n",
       "      <td>0.0</td>\n",
       "      <td>1.0</td>\n",
       "      <td>0.0</td>\n",
       "      <td>0.0</td>\n",
       "      <td>0.0</td>\n",
       "    </tr>\n",
       "    <tr>\n",
       "      <th>ZJ001415</th>\n",
       "      <td>0.0</td>\n",
       "      <td>0.0</td>\n",
       "      <td>0.0</td>\n",
       "      <td>0.0</td>\n",
       "      <td>0.0</td>\n",
       "      <td>1.0</td>\n",
       "      <td>0.0</td>\n",
       "      <td>0.0</td>\n",
       "    </tr>\n",
       "  </tbody>\n",
       "</table>\n",
       "<p>16488 rows × 8 columns</p>\n",
       "</div>"
      ]
     },
     "execution_count": 19,
     "metadata": {},
     "output_type": "execute_result"
    }
   ],
   "execution_count": 19
  },
  {
   "metadata": {
    "ExecuteTime": {
     "end_time": "2025-04-01T08:37:28.787546Z",
     "start_time": "2025-04-01T08:37:28.499329Z"
    }
   },
   "cell_type": "code",
   "source": [
    "from sklearn.model_selection import train_test_split\n",
    "\n",
    "frac = 0.5\n",
    "y = train_labels.sample(frac=frac, random_state=42)\n",
    "x = train_features.loc[y.index]['filepath'].to_frame()\n",
    "\n",
    "X_train, X_eval, y_train, y_eval = train_test_split(\n",
    "    x, y, stratify=y, test_size=0.25\n",
    ")"
   ],
   "id": "804cac67ebaceaa",
   "outputs": [],
   "execution_count": 20
  },
  {
   "metadata": {
    "ExecuteTime": {
     "end_time": "2025-04-01T08:37:28.795017Z",
     "start_time": "2025-04-01T08:37:28.792140Z"
    }
   },
   "cell_type": "code",
   "source": "X_train.head()",
   "id": "e19441eb1a241ad0",
   "outputs": [
    {
     "data": {
      "text/plain": [
       "                             filepath\n",
       "id                                   \n",
       "ZJ002579  train_features/ZJ002579.jpg\n",
       "ZJ007981  train_features/ZJ007981.jpg\n",
       "ZJ009552  train_features/ZJ009552.jpg\n",
       "ZJ006323  train_features/ZJ006323.jpg\n",
       "ZJ000937  train_features/ZJ000937.jpg"
      ],
      "text/html": [
       "<div>\n",
       "<style scoped>\n",
       "    .dataframe tbody tr th:only-of-type {\n",
       "        vertical-align: middle;\n",
       "    }\n",
       "\n",
       "    .dataframe tbody tr th {\n",
       "        vertical-align: top;\n",
       "    }\n",
       "\n",
       "    .dataframe thead th {\n",
       "        text-align: right;\n",
       "    }\n",
       "</style>\n",
       "<table border=\"1\" class=\"dataframe\">\n",
       "  <thead>\n",
       "    <tr style=\"text-align: right;\">\n",
       "      <th></th>\n",
       "      <th>filepath</th>\n",
       "    </tr>\n",
       "    <tr>\n",
       "      <th>id</th>\n",
       "      <th></th>\n",
       "    </tr>\n",
       "  </thead>\n",
       "  <tbody>\n",
       "    <tr>\n",
       "      <th>ZJ002579</th>\n",
       "      <td>train_features/ZJ002579.jpg</td>\n",
       "    </tr>\n",
       "    <tr>\n",
       "      <th>ZJ007981</th>\n",
       "      <td>train_features/ZJ007981.jpg</td>\n",
       "    </tr>\n",
       "    <tr>\n",
       "      <th>ZJ009552</th>\n",
       "      <td>train_features/ZJ009552.jpg</td>\n",
       "    </tr>\n",
       "    <tr>\n",
       "      <th>ZJ006323</th>\n",
       "      <td>train_features/ZJ006323.jpg</td>\n",
       "    </tr>\n",
       "    <tr>\n",
       "      <th>ZJ000937</th>\n",
       "      <td>train_features/ZJ000937.jpg</td>\n",
       "    </tr>\n",
       "  </tbody>\n",
       "</table>\n",
       "</div>"
      ]
     },
     "execution_count": 21,
     "metadata": {},
     "output_type": "execute_result"
    }
   ],
   "execution_count": 21
  },
  {
   "metadata": {
    "ExecuteTime": {
     "end_time": "2025-04-01T08:37:28.888717Z",
     "start_time": "2025-04-01T08:37:28.883454Z"
    }
   },
   "cell_type": "code",
   "source": "y_train.head()",
   "id": "4b5e605e554a0a8",
   "outputs": [
    {
     "data": {
      "text/plain": [
       "          antelope_duiker  bird  blank  civet_genet  hog  leopard  \\\n",
       "id                                                                  \n",
       "ZJ002579              0.0   1.0    0.0          0.0  0.0      0.0   \n",
       "ZJ007981              1.0   0.0    0.0          0.0  0.0      0.0   \n",
       "ZJ009552              0.0   0.0    0.0          0.0  0.0      0.0   \n",
       "ZJ006323              0.0   0.0    0.0          0.0  0.0      1.0   \n",
       "ZJ000937              0.0   0.0    0.0          1.0  0.0      0.0   \n",
       "\n",
       "          monkey_prosimian  rodent  \n",
       "id                                  \n",
       "ZJ002579               0.0     0.0  \n",
       "ZJ007981               0.0     0.0  \n",
       "ZJ009552               0.0     1.0  \n",
       "ZJ006323               0.0     0.0  \n",
       "ZJ000937               0.0     0.0  "
      ],
      "text/html": [
       "<div>\n",
       "<style scoped>\n",
       "    .dataframe tbody tr th:only-of-type {\n",
       "        vertical-align: middle;\n",
       "    }\n",
       "\n",
       "    .dataframe tbody tr th {\n",
       "        vertical-align: top;\n",
       "    }\n",
       "\n",
       "    .dataframe thead th {\n",
       "        text-align: right;\n",
       "    }\n",
       "</style>\n",
       "<table border=\"1\" class=\"dataframe\">\n",
       "  <thead>\n",
       "    <tr style=\"text-align: right;\">\n",
       "      <th></th>\n",
       "      <th>antelope_duiker</th>\n",
       "      <th>bird</th>\n",
       "      <th>blank</th>\n",
       "      <th>civet_genet</th>\n",
       "      <th>hog</th>\n",
       "      <th>leopard</th>\n",
       "      <th>monkey_prosimian</th>\n",
       "      <th>rodent</th>\n",
       "    </tr>\n",
       "    <tr>\n",
       "      <th>id</th>\n",
       "      <th></th>\n",
       "      <th></th>\n",
       "      <th></th>\n",
       "      <th></th>\n",
       "      <th></th>\n",
       "      <th></th>\n",
       "      <th></th>\n",
       "      <th></th>\n",
       "    </tr>\n",
       "  </thead>\n",
       "  <tbody>\n",
       "    <tr>\n",
       "      <th>ZJ002579</th>\n",
       "      <td>0.0</td>\n",
       "      <td>1.0</td>\n",
       "      <td>0.0</td>\n",
       "      <td>0.0</td>\n",
       "      <td>0.0</td>\n",
       "      <td>0.0</td>\n",
       "      <td>0.0</td>\n",
       "      <td>0.0</td>\n",
       "    </tr>\n",
       "    <tr>\n",
       "      <th>ZJ007981</th>\n",
       "      <td>1.0</td>\n",
       "      <td>0.0</td>\n",
       "      <td>0.0</td>\n",
       "      <td>0.0</td>\n",
       "      <td>0.0</td>\n",
       "      <td>0.0</td>\n",
       "      <td>0.0</td>\n",
       "      <td>0.0</td>\n",
       "    </tr>\n",
       "    <tr>\n",
       "      <th>ZJ009552</th>\n",
       "      <td>0.0</td>\n",
       "      <td>0.0</td>\n",
       "      <td>0.0</td>\n",
       "      <td>0.0</td>\n",
       "      <td>0.0</td>\n",
       "      <td>0.0</td>\n",
       "      <td>0.0</td>\n",
       "      <td>1.0</td>\n",
       "    </tr>\n",
       "    <tr>\n",
       "      <th>ZJ006323</th>\n",
       "      <td>0.0</td>\n",
       "      <td>0.0</td>\n",
       "      <td>0.0</td>\n",
       "      <td>0.0</td>\n",
       "      <td>0.0</td>\n",
       "      <td>1.0</td>\n",
       "      <td>0.0</td>\n",
       "      <td>0.0</td>\n",
       "    </tr>\n",
       "    <tr>\n",
       "      <th>ZJ000937</th>\n",
       "      <td>0.0</td>\n",
       "      <td>0.0</td>\n",
       "      <td>0.0</td>\n",
       "      <td>1.0</td>\n",
       "      <td>0.0</td>\n",
       "      <td>0.0</td>\n",
       "      <td>0.0</td>\n",
       "      <td>0.0</td>\n",
       "    </tr>\n",
       "  </tbody>\n",
       "</table>\n",
       "</div>"
      ]
     },
     "execution_count": 22,
     "metadata": {},
     "output_type": "execute_result"
    }
   ],
   "execution_count": 22
  },
  {
   "metadata": {
    "ExecuteTime": {
     "end_time": "2025-04-01T08:37:29.549534Z",
     "start_time": "2025-04-01T08:37:29.545455Z"
    }
   },
   "cell_type": "code",
   "source": "X_train.shape, y_train.shape, X_eval.shape, y_eval.shape",
   "id": "63b5cfc89ebc6c7",
   "outputs": [
    {
     "data": {
      "text/plain": [
       "((6183, 1), (6183, 8), (2061, 1), (2061, 8))"
      ]
     },
     "execution_count": 23,
     "metadata": {},
     "output_type": "execute_result"
    }
   ],
   "execution_count": 23
  },
  {
   "metadata": {},
   "cell_type": "markdown",
   "source": "Now since we used stratify=y we can see the distribution of species across train and eval sets",
   "id": "dd96e0be5fa5cba7"
  },
  {
   "metadata": {
    "ExecuteTime": {
     "end_time": "2025-04-01T08:37:30.674331Z",
     "start_time": "2025-04-01T08:37:30.666719Z"
    }
   },
   "cell_type": "code",
   "source": [
    "split_pcts = pd.DataFrame(\n",
    "    {\n",
    "        'train': y_train.idxmax(axis=1).value_counts(normalize=True),\n",
    "        'eval': y_eval.idxmax(axis=1).value_counts(normalize=True)\n",
    "    }\n",
    ")\n",
    "print(f'Percentage Split')\n",
    "(split_pcts.fillna(0) * 100).astype(int)"
   ],
   "id": "14f4643ace7f90d1",
   "outputs": [
    {
     "name": "stdout",
     "output_type": "stream",
     "text": [
      "Percentage Split\n"
     ]
    },
    {
     "data": {
      "text/plain": [
       "                  train  eval\n",
       "antelope_duiker      15    15\n",
       "monkey_prosimian     15    15\n",
       "civet_genet          14    14\n",
       "blank                13    13\n",
       "leopard              12    13\n",
       "rodent               12    12\n",
       "bird                  9     9\n",
       "hog                   5     5"
      ],
      "text/html": [
       "<div>\n",
       "<style scoped>\n",
       "    .dataframe tbody tr th:only-of-type {\n",
       "        vertical-align: middle;\n",
       "    }\n",
       "\n",
       "    .dataframe tbody tr th {\n",
       "        vertical-align: top;\n",
       "    }\n",
       "\n",
       "    .dataframe thead th {\n",
       "        text-align: right;\n",
       "    }\n",
       "</style>\n",
       "<table border=\"1\" class=\"dataframe\">\n",
       "  <thead>\n",
       "    <tr style=\"text-align: right;\">\n",
       "      <th></th>\n",
       "      <th>train</th>\n",
       "      <th>eval</th>\n",
       "    </tr>\n",
       "  </thead>\n",
       "  <tbody>\n",
       "    <tr>\n",
       "      <th>antelope_duiker</th>\n",
       "      <td>15</td>\n",
       "      <td>15</td>\n",
       "    </tr>\n",
       "    <tr>\n",
       "      <th>monkey_prosimian</th>\n",
       "      <td>15</td>\n",
       "      <td>15</td>\n",
       "    </tr>\n",
       "    <tr>\n",
       "      <th>civet_genet</th>\n",
       "      <td>14</td>\n",
       "      <td>14</td>\n",
       "    </tr>\n",
       "    <tr>\n",
       "      <th>blank</th>\n",
       "      <td>13</td>\n",
       "      <td>13</td>\n",
       "    </tr>\n",
       "    <tr>\n",
       "      <th>leopard</th>\n",
       "      <td>12</td>\n",
       "      <td>13</td>\n",
       "    </tr>\n",
       "    <tr>\n",
       "      <th>rodent</th>\n",
       "      <td>12</td>\n",
       "      <td>12</td>\n",
       "    </tr>\n",
       "    <tr>\n",
       "      <th>bird</th>\n",
       "      <td>9</td>\n",
       "      <td>9</td>\n",
       "    </tr>\n",
       "    <tr>\n",
       "      <th>hog</th>\n",
       "      <td>5</td>\n",
       "      <td>5</td>\n",
       "    </tr>\n",
       "  </tbody>\n",
       "</table>\n",
       "</div>"
      ]
     },
     "execution_count": 24,
     "metadata": {},
     "output_type": "execute_result"
    }
   ],
   "execution_count": 24
  },
  {
   "metadata": {
    "ExecuteTime": {
     "end_time": "2025-04-01T08:37:38.680743Z",
     "start_time": "2025-04-01T08:37:38.676146Z"
    }
   },
   "cell_type": "code",
   "source": [
    "import torch\n",
    "from torch.utils.data import Dataset\n",
    "from PIL import Image\n",
    "from torchvision import transforms\n",
    "\n",
    "\n",
    "class ImageDataset(Dataset):\n",
    "    def __init__(self, x_df, y_df=None):\n",
    "        super().__init__()\n",
    "        self.data = x_df\n",
    "        self.label = y_df\n",
    "        self.transform = transforms.Compose(\n",
    "            [\n",
    "                transforms.Resize((224, 224)),\n",
    "                transforms.ToTensor(),\n",
    "                transforms.Normalize(\n",
    "                    mean=[0.485, 0.456, 0.406], std=[0.229, 0.224, 0.225]\n",
    "                )\n",
    "            ]\n",
    "        )\n",
    "\n",
    "    def __getitem__(self, index):\n",
    "        image = Image.open(self.data.iloc[index]['filepath']).convert('RGB')\n",
    "        image = self.transform(image)\n",
    "        image_id = self.data.iloc[index]\n",
    "\n",
    "        if self.label is None:\n",
    "            sample = {'image_id':image_id, 'image':image}\n",
    "        else:\n",
    "            label = torch.tensor(self.label.iloc[index].values, dtype=torch.float32)\n",
    "            sample = {'image_id':image_id, 'image':image ,'label':label}\n",
    "\n",
    "        return sample\n",
    "\n",
    "    def __len__(self):\n",
    "        return len(self.data)"
   ],
   "id": "f4c83cb05e2259c3",
   "outputs": [],
   "execution_count": 26
  },
  {
   "metadata": {},
   "cell_type": "code",
   "outputs": [],
   "execution_count": null,
   "source": "",
   "id": "fb3dacaaafee32eb"
  }
 ],
 "metadata": {
  "kernelspec": {
   "display_name": "Python 3",
   "language": "python",
   "name": "python3"
  },
  "language_info": {
   "codemirror_mode": {
    "name": "ipython",
    "version": 2
   },
   "file_extension": ".py",
   "mimetype": "text/x-python",
   "name": "python",
   "nbconvert_exporter": "python",
   "pygments_lexer": "ipython2",
   "version": "2.7.6"
  }
 },
 "nbformat": 4,
 "nbformat_minor": 5
}
